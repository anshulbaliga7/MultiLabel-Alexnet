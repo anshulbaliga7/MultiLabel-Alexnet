{
 "cells": [
  {
   "cell_type": "code",
   "execution_count": 36,
   "id": "a440771b",
   "metadata": {},
   "outputs": [
    {
     "name": "stdout",
     "output_type": "stream",
     "text": [
      "                                 image_name       tags\n",
      "0  NLA_398920523EDR_F0030078NCAM00302M1.jpg       sand\n",
      "1  NLA_399365176EDR_F0030100NCAM00305M1.jpg       soil\n",
      "2  NLA_399365204EDR_F0030100NCAM00305M1.jpg       soil\n",
      "3  NLA_401761424EDR_F0042644NCAM00429M1.jpg       soil\n",
      "4  NLA_401848341EDR_F0042778NCAM00409M1.jpg       soil\n",
      "5  NLA_401848369EDR_F0042778NCAM00409M1.jpg       soil\n",
      "6  NLA_401855285EDR_F0042778NCAM00434M1.jpg  soil rock\n",
      "7  NLA_401936713EDR_F0042956NCAM00435M1.jpg       soil\n",
      "8  NLA_401936747EDR_F0042956NCAM00435M1.jpg       soil\n",
      "9  NLA_402034422EDR_F0042956NCAM00107M1.jpg       soil\n",
      "(41, 2)\n",
      "{'rock', 'soil', 'sand'}\n"
     ]
    }
   ],
   "source": [
    "import pandas as pd\n",
    "import os\n",
    "\n",
    "root = r\"C:\\Users\\bali\\Documents\\jupyternote\\cnn\"\n",
    "\n",
    "csvPath = os.path.join(root + \"/alexnet.csv\")\n",
    "trainImages = os.path.join(root + \"/train/.*jpg\")\n",
    "testImages = os.path.join(root + \"/test/.*jpg\")\n",
    "\n",
    "df = pd.read_csv(csvPath)\n",
    "\n",
    "print(df.head(10))\n",
    "print(df.shape)\n",
    "\n",
    "l = set()\n",
    "\n",
    "for tag in df['tags'].values:\n",
    "    labels = tag.split(' ')\n",
    "    l.update(labels)\n",
    "    \n",
    "print(l)"
   ]
  },
  {
   "cell_type": "code",
   "execution_count": 37,
   "id": "8385876d",
   "metadata": {},
   "outputs": [
    {
     "name": "stdout",
     "output_type": "stream",
     "text": [
      "sand\n",
      "soil\n",
      "soil\n",
      "soil\n",
      "soil\n",
      "soil\n",
      "soil\n",
      "soil\n",
      "soil\n",
      "soil\n",
      "sand\n",
      "sand\n",
      "sand\n",
      "sand\n",
      "sand\n",
      "soil\n",
      "rock\n",
      "rock\n",
      "rock\n",
      "rock\n",
      "soil\n",
      "rock\n"
     ]
    }
   ],
   "source": [
    "import re\n",
    "\n",
    "labels = df['tags']\n",
    "\n",
    "def valueSearch(pattern):\n",
    "    count = []\n",
    "    num = 0\n",
    "    for label in labels:\n",
    "        x = re.search(pattern, label)\n",
    "        if x:\n",
    "            count.append(label)\n",
    "    for c in count:\n",
    "        num += 1\n",
    "    return num\n",
    "\n",
    "def showLabels(pattern):\n",
    "    for label in labels:\n",
    "        x = re.search(pattern, label)\n",
    "        if x:\n",
    "            print(label)\n",
    "            \n",
    "showLabels(r\"^[\\S]+$\") # values with one label\n",
    "showLabels(r\"^[^ ]* [^ ]* [^ ]* [^ ]* [^ ]* [^ ]*$\") # values with six labels\n",
    "showLabels(r\"^[^ ]* [^ ]* [^ ]* [^ ]* [^ ]* [^ ]* [^ ]* [^ ]* [^ ]*$\") # values with nine labels"
   ]
  },
  {
   "cell_type": "code",
   "execution_count": 38,
   "id": "43da26d7",
   "metadata": {},
   "outputs": [
    {
     "name": "stderr",
     "output_type": "stream",
     "text": [
      "C:\\Users\\bali\\AppData\\Local\\Temp\\ipykernel_25332\\2240712516.py:14: UserWarning: FixedFormatter should only be used together with FixedLocator\n",
      "  ax.set_xticklabels(chartLabels, rotation=90)\n"
     ]
    },
    {
     "data": {
      "image/png": "[encoded data removed]",
      "text/plain": [
       "<Figure size 640x480 with 1 Axes>"
      ]
     },
     "metadata": {},
     "output_type": "display_data"
    }
   ],
   "source": [
    "import matplotlib.pyplot as plt\n",
    "\n",
    "patternList = [r\"^[\\S]+$\", r\"^[^ ]* [^ ]*$\", r\"^[^ ]* [^ ]* [^ ]*$\", r\"^[^ ]* [^ ]* [^ ]* [^ ]*$\", r\"^[^ ]* [^ ]* [^ ]* [^ ]* [^ ]*$\", r\"^[^ ]* [^ ]* [^ ]* [^ ]* [^ ]* [^ ]*$\",\n",
    "              r\"^[^ ]* [^ ]* [^ ]* [^ ]* [^ ]* [^ ]* [^ ]*$\", r\"^[^ ]* [^ ]* [^ ]* [^ ]* [^ ]* [^ ]* [^ ]* [^ ]*$\", r\"^[^ ]* [^ ]* [^ ]* [^ ]* [^ ]* [^ ]* [^ ]* [^ ]* [^ ]*$\", ]\n",
    "    \n",
    "valueList = []\n",
    "chartLabels = [\"1\", \"2\", \"3\", \"4\", \"5\", \"6\", \"7\", \"8\", \"9\"]\n",
    "\n",
    "for p in patternList:\n",
    "    valueList.append(valueSearch(p))\n",
    "\n",
    "fig, ax = plt.subplots()\n",
    "ax.bar(chartLabels, valueList)\n",
    "ax.set_xticklabels(chartLabels, rotation=90)\n",
    "plt.title(\"Distribution of Number of Labels\")\n",
    "plt.show()"
   ]
  },
  {
   "cell_type": "code",
   "execution_count": 39,
   "id": "a4ca1304",
   "metadata": {},
   "outputs": [
    {
     "name": "stdout",
     "output_type": "stream",
     "text": [
      "NLA_398920523EDR_F0030078NCAM00302M1.jpg\n",
      "NLA_399365176EDR_F0030100NCAM00305M1.jpg\n",
      "NLA_399365204EDR_F0030100NCAM00305M1.jpg\n",
      "NLA_401761424EDR_F0042644NCAM00429M1.jpg\n",
      "NLA_401848341EDR_F0042778NCAM00409M1.jpg\n",
      "NLA_401848369EDR_F0042778NCAM00409M1.jpg\n",
      "NLA_401855285EDR_F0042778NCAM00434M1.jpg\n",
      "NLA_401936713EDR_F0042956NCAM00435M1.jpg\n",
      "NLA_401936747EDR_F0042956NCAM00435M1.jpg\n",
      "NLA_402034422EDR_F0042956NCAM00107M1.jpg\n",
      "NLA_402109354EDR_F0043076NCAM00437M1.jpg\n",
      "NLA_402646906EDR_F0050000NCAM00320M1.jpg\n",
      "NLA_402654215EDR_F0050000NCAM00318M1.jpg\n",
      "NLA_402737150EDR_F0050104NCAM00447M1.jpg\n",
      "NLA_402815670EDR_F0050104NCAM00452M1.jpg\n",
      "NLA_402815705EDR_F0050104NCAM00452M1.jpg\n",
      "NLA_402816231EDR_F0050104NCAM00450M1.jpg\n",
      "NLA_403353108EDR_F0050104NCAM00324M1.jpg\n",
      "NLA_403354156EDR_F0050104NCAM00324M1.jpg\n",
      "NLA_403619961EDR_F0050104NCAM00324M1.jpg\n",
      "NLA_403976448EDR_F0050104NCAM00107M1.jpg\n",
      "NLA_403977159EDR_F0050104NCAM00107M1.jpg\n",
      "NLA_403977615EDR_F0050104NCAM00107M1.jpg\n",
      "NLA_404064541EDR_F0050104NCAM00336M1.jpg\n",
      "NLA_404065134EDR_F0050104NCAM00324M1.jpg\n",
      "NLA_404065912EDR_F0050104NCAM00324M1.jpg\n",
      "NLA_404066038EDR_F0050104NCAM00325M1.jpg\n",
      "NLA_404066962EDR_F0050104NCAM00324M1.jpg\n",
      "NLA_404067450EDR_F0050104NCAM00324M1.jpg\n",
      "NLA_404684268EDR_F0050104NCAM00107M1.jpg\n",
      "NLA_404684725EDR_F0050104NCAM00107M1.jpg\n",
      "NLA_406373862EDR_F0050116NCAM03214M1.jpg\n",
      "NLA_406373890EDR_F0050116NCAM03214M1.jpg\n",
      "NLA_408156382EDR_F0050742NCAM00215M1.jpg\n",
      "NLA_408244691EDR_F0050926NCAM00216M1.jpg\n",
      "NLA_408244789EDR_F0050926NCAM00216M1.jpg\n",
      "NLA_408244824EDR_F0050926NCAM00216M1.jpg\n",
      "NLA_408331426EDR_F0050938NCAM05134M1.jpg\n",
      "NLB_444018679EDR_F0251496NCAM00297M1.jpg\n",
      "NLB_444808777EDR_F0260292NCAM00258M1.jpg\n",
      "NLB_444808898EDR_F0260292NCAM00258M1.jpg\n"
     ]
    }
   ],
   "source": [
    "import numpy as np\n",
    "import cv2\n",
    "# Iterate through the image id names and create unique file paths, \n",
    "# then cv2 imread and resize the images; and convert to np array. \n",
    "# Divide by 255 to normalize to 0-1. \n",
    "\n",
    "def loadImages(imgsize):\n",
    "    imgs = []\n",
    "    x = []\n",
    "    imgsize=1024\n",
    "    imgCount = 0\n",
    "\n",
    "    for imageids in df['image_name'].values:\n",
    "      print(imageids)\n",
    "      if imgCount < 43:\n",
    "\n",
    "            # images = os.path.join(trainImages + \"/\" + imageids + \".jpg\")\n",
    "          images = os.path.join(root+'/train/'+ imageids)\n",
    "          imgs.append(images)\n",
    "          imgCount += 1\n",
    "\n",
    "    for path in imgs:\n",
    "        img = cv2.imread(path)\n",
    "        try:\n",
    "          img = cv2.resize(img, (imgsize, imgsize))\n",
    "        except:\n",
    "          break  \n",
    "        x.append(img)\n",
    "\n",
    "    x = np.array(x, dtype=np.float32) / 255\n",
    "\n",
    "    return x\n",
    "\n",
    "X = loadImages(1024)\n"
   ]
  },
  {
   "cell_type": "code",
   "execution_count": 40,
   "id": "945e4fcf",
   "metadata": {},
   "outputs": [],
   "source": [
    "from sklearn.model_selection import train_test_split\n",
    "\n",
    "# Iterates through the tags and splits them. If the passed category arg is in the split tags; feature will append 1 \n",
    "# to indicate presence of label and 0 in case of absence. It will then return the list of binarized labels.  \n",
    "\n",
    "def loadLabels(category):\n",
    "    feature = []\n",
    "    for tags in df['tags'].values:\n",
    "        tags = tags.split(' ')\n",
    "        if category in tags:\n",
    "            feature.append(1)\n",
    "        else:\n",
    "            feature.append(0)\n",
    "    return feature\n",
    "\n",
    "# Iterates through l (set of all labels - all 17 unique values) and creates a new df feature with the values being equal\n",
    "# to loadLabels column; then returns the new df. \n",
    "\n",
    "def createFeatures(l):\n",
    "    for col in l:\n",
    "        df[col] = loadLabels(col)\n",
    "    return df\n",
    "\n",
    "df = createFeatures(l)\n",
    "\n",
    "# Drops unnecessary cols (image name and tags) and drops all rows after 20000. Then converts df values to numpy array and returns\n",
    "# the dataframe. \n",
    "\n",
    "def extractLabels(df):\n",
    "    df = df.drop(columns=['image_name', 'tags'])\n",
    "    # df = df.drop(labels=range(20000, 40479), axis=0)\n",
    "    df = df.to_numpy()\n",
    "    return df\n",
    "\n",
    "y = extractLabels(df)\n",
    "\n",
    "# Train test split values; at 0.2% 16,000-4,000 training / validation.\n",
    "\n",
    "X_train, X_test, y_train, y_test = train_test_split(X, y, test_size=0.2)"
   ]
  },
  {
   "cell_type": "code",
   "execution_count": 41,
   "id": "c1df5512",
   "metadata": {},
   "outputs": [
    {
     "name": "stdout",
     "output_type": "stream",
     "text": [
      "41 41\n"
     ]
    }
   ],
   "source": [
    "print(X.shape[0], y.shape[0])\n"
   ]
  },
  {
   "cell_type": "code",
   "execution_count": null,
   "id": "da53b268",
   "metadata": {},
   "outputs": [],
   "source": [
    "from keras.models import Sequential\n",
    "from keras.layers import Conv2D, BatchNormalization, MaxPool2D, Dense, Flatten, Dropout\n",
    "from tensorflow.keras.callbacks import ModelCheckpoint\n",
    "\n",
    "y_train = y_train.astype('float32')\n",
    "y_test = y_test.astype('float32')\n",
    "\n",
    "alexnet = Sequential()\n",
    "alexnet.add(Conv2D(input_shape=(1024, 1024, 3), filters=96, kernel_size=(11,11), strides=(4,4), padding=\"same\", activation=\"relu\"))\n",
    "alexnet.add(BatchNormalization())\n",
    "alexnet.add(MaxPool2D(pool_size=(3,3), strides=(2,2)))\n",
    "\n",
    "alexnet.add(Conv2D(filters=256, kernel_size=(5,5), strides=(1, 1), padding=\"same\", activation=\"relu\"))\n",
    "alexnet.add(BatchNormalization())\n",
    "alexnet.add(MaxPool2D(pool_size=(3,3), strides=(2,2)))\n",
    "\n",
    "alexnet.add(Conv2D(filters=384, kernel_size=(3,3), strides=(1,1), padding=\"same\", activation=\"relu\"))\n",
    "alexnet.add(BatchNormalization())\n",
    "alexnet.add(Conv2D(filters=384, kernel_size=(1,1), strides=(1,1), padding=\"same\", activation=\"relu\"))\n",
    "alexnet.add(BatchNormalization())\n",
    "\n",
    "alexnet.add(Conv2D(filters=256, kernel_size=(1,1), strides=(1,1), padding=\"same\", activation=\"relu\"))\n",
    "alexnet.add(BatchNormalization())\n",
    "alexnet.add(MaxPool2D(pool_size=(3,3), strides=(2,2)))\n",
    "    \n",
    "alexnet.add(Flatten())\n",
    "alexnet.add(Dense(4096, activation=\"relu\"))\n",
    "alexnet.add(Dropout(0.5))\n",
    "alexnet.add(Dense(4096, activation=\"relu\"))\n",
    "alexnet.add(Dropout(0.5))\n",
    "alexnet.add(Dense(3, activation=\"sigmoid\"))\n",
    "\n",
    "alexnet.compile(loss='binary_crossentropy', optimizer='adam',\n",
    "              metrics=['accuracy'])\n",
    "\n",
    "model_checkpoint = ModelCheckpoint('alexnet.h5', monitor=\"accuracy\",verbose=1, save_best_only=True)\n",
    "alexnet.fit(X_train, y_train, batch_size=20, epochs=10, validation_data=(X_test, y_test), callbacks=[model_checkpoint])"
   ]
  }
 ],
 "metadata": {
  "kernelspec": {
   "display_name": "Python 3 (ipykernel)",
   "language": "python",
   "name": "python3"
  },
  "language_info": {
   "codemirror_mode": {
    "name": "ipython",
    "version": 3
   },
   "file_extension": ".py",
   "mimetype": "text/x-python",
   "name": "python",
   "nbconvert_exporter": "python",
   "pygments_lexer": "ipython3",
   "version": "3.11.0"
  }
 },
 "nbformat": 4,
 "nbformat_minor": 5
}
